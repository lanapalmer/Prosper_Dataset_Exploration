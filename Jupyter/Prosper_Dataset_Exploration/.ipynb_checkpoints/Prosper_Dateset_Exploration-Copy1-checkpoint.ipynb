{
 "cells": [
  {
   "cell_type": "markdown",
   "metadata": {},
   "source": [
    "# Prosper Loan Data Exploration\n",
    "\n",
    "## by Lana Palmer\n",
    "\n",
    "## Preliminary Wrangling\n",
    "\n",
    "> Prosper Marketplace, Inc. is a privately-held, San Francisco-based company in the peer-to-peer lending industry.\n",
    "\n",
    "In this notebook, I will explore the dataset and present findings based on three data set features."
   ]
  },
  {
   "cell_type": "code",
   "execution_count": 1,
   "metadata": {},
   "outputs": [],
   "source": [
    "# import all packages and set plots to be embedded inline\n",
    "import numpy as np\n",
    "import pandas as pd\n",
    "import matplotlib.pyplot as plt\n",
    "import seaborn as sns\n",
    "import datetime\n",
    "\n",
    "%matplotlib inline"
   ]
  },
  {
   "cell_type": "markdown",
   "metadata": {},
   "source": [
    "> Load in your dataset and describe its properties through the questions below.\n",
    "Try and motivate your exploration goals through this section."
   ]
  },
  {
   "cell_type": "code",
   "execution_count": 2,
   "metadata": {},
   "outputs": [],
   "source": [
    "dateparse = lambda x: pd.datetime.strptime(x, '%Y-%m-%d %H:%M:%S')\n",
    "#Import Prosper csv\n",
    "prosper = pd.read_csv('prosperLoanData.csv', parse_dates=['ListingCreationDate'], date_parser = pd.to_datetime)"
   ]
  },
  {
   "cell_type": "code",
   "execution_count": 3,
   "metadata": {},
   "outputs": [
    {
     "data": {
      "text/html": [
       "<div>\n",
       "<style scoped>\n",
       "    .dataframe tbody tr th:only-of-type {\n",
       "        vertical-align: middle;\n",
       "    }\n",
       "\n",
       "    .dataframe tbody tr th {\n",
       "        vertical-align: top;\n",
       "    }\n",
       "\n",
       "    .dataframe thead th {\n",
       "        text-align: right;\n",
       "    }\n",
       "</style>\n",
       "<table border=\"1\" class=\"dataframe\">\n",
       "  <thead>\n",
       "    <tr style=\"text-align: right;\">\n",
       "      <th></th>\n",
       "      <th>ListingKey</th>\n",
       "      <th>ListingNumber</th>\n",
       "      <th>ListingCreationDate</th>\n",
       "      <th>CreditGrade</th>\n",
       "      <th>Term</th>\n",
       "      <th>LoanStatus</th>\n",
       "      <th>ClosedDate</th>\n",
       "      <th>BorrowerAPR</th>\n",
       "      <th>BorrowerRate</th>\n",
       "      <th>LenderYield</th>\n",
       "      <th>...</th>\n",
       "      <th>LP_ServiceFees</th>\n",
       "      <th>LP_CollectionFees</th>\n",
       "      <th>LP_GrossPrincipalLoss</th>\n",
       "      <th>LP_NetPrincipalLoss</th>\n",
       "      <th>LP_NonPrincipalRecoverypayments</th>\n",
       "      <th>PercentFunded</th>\n",
       "      <th>Recommendations</th>\n",
       "      <th>InvestmentFromFriendsCount</th>\n",
       "      <th>InvestmentFromFriendsAmount</th>\n",
       "      <th>Investors</th>\n",
       "    </tr>\n",
       "  </thead>\n",
       "  <tbody>\n",
       "    <tr>\n",
       "      <th>0</th>\n",
       "      <td>1021339766868145413AB3B</td>\n",
       "      <td>193129</td>\n",
       "      <td>2007-08-26 19:09:29.263</td>\n",
       "      <td>C</td>\n",
       "      <td>36</td>\n",
       "      <td>Completed</td>\n",
       "      <td>2009-08-14 00:00:00</td>\n",
       "      <td>0.16516</td>\n",
       "      <td>0.1580</td>\n",
       "      <td>0.1380</td>\n",
       "      <td>...</td>\n",
       "      <td>-133.18</td>\n",
       "      <td>0.0</td>\n",
       "      <td>0.0</td>\n",
       "      <td>0.0</td>\n",
       "      <td>0.0</td>\n",
       "      <td>1.0</td>\n",
       "      <td>0</td>\n",
       "      <td>0</td>\n",
       "      <td>0.0</td>\n",
       "      <td>258</td>\n",
       "    </tr>\n",
       "    <tr>\n",
       "      <th>1</th>\n",
       "      <td>10273602499503308B223C1</td>\n",
       "      <td>1209647</td>\n",
       "      <td>2014-02-27 08:28:07.900</td>\n",
       "      <td>NaN</td>\n",
       "      <td>36</td>\n",
       "      <td>Current</td>\n",
       "      <td>NaN</td>\n",
       "      <td>0.12016</td>\n",
       "      <td>0.0920</td>\n",
       "      <td>0.0820</td>\n",
       "      <td>...</td>\n",
       "      <td>0.00</td>\n",
       "      <td>0.0</td>\n",
       "      <td>0.0</td>\n",
       "      <td>0.0</td>\n",
       "      <td>0.0</td>\n",
       "      <td>1.0</td>\n",
       "      <td>0</td>\n",
       "      <td>0</td>\n",
       "      <td>0.0</td>\n",
       "      <td>1</td>\n",
       "    </tr>\n",
       "    <tr>\n",
       "      <th>2</th>\n",
       "      <td>0EE9337825851032864889A</td>\n",
       "      <td>81716</td>\n",
       "      <td>2007-01-05 15:00:47.090</td>\n",
       "      <td>HR</td>\n",
       "      <td>36</td>\n",
       "      <td>Completed</td>\n",
       "      <td>2009-12-17 00:00:00</td>\n",
       "      <td>0.28269</td>\n",
       "      <td>0.2750</td>\n",
       "      <td>0.2400</td>\n",
       "      <td>...</td>\n",
       "      <td>-24.20</td>\n",
       "      <td>0.0</td>\n",
       "      <td>0.0</td>\n",
       "      <td>0.0</td>\n",
       "      <td>0.0</td>\n",
       "      <td>1.0</td>\n",
       "      <td>0</td>\n",
       "      <td>0</td>\n",
       "      <td>0.0</td>\n",
       "      <td>41</td>\n",
       "    </tr>\n",
       "    <tr>\n",
       "      <th>3</th>\n",
       "      <td>0EF5356002482715299901A</td>\n",
       "      <td>658116</td>\n",
       "      <td>2012-10-22 11:02:35.010</td>\n",
       "      <td>NaN</td>\n",
       "      <td>36</td>\n",
       "      <td>Current</td>\n",
       "      <td>NaN</td>\n",
       "      <td>0.12528</td>\n",
       "      <td>0.0974</td>\n",
       "      <td>0.0874</td>\n",
       "      <td>...</td>\n",
       "      <td>-108.01</td>\n",
       "      <td>0.0</td>\n",
       "      <td>0.0</td>\n",
       "      <td>0.0</td>\n",
       "      <td>0.0</td>\n",
       "      <td>1.0</td>\n",
       "      <td>0</td>\n",
       "      <td>0</td>\n",
       "      <td>0.0</td>\n",
       "      <td>158</td>\n",
       "    </tr>\n",
       "    <tr>\n",
       "      <th>4</th>\n",
       "      <td>0F023589499656230C5E3E2</td>\n",
       "      <td>909464</td>\n",
       "      <td>2013-09-14 18:38:39.097</td>\n",
       "      <td>NaN</td>\n",
       "      <td>36</td>\n",
       "      <td>Current</td>\n",
       "      <td>NaN</td>\n",
       "      <td>0.24614</td>\n",
       "      <td>0.2085</td>\n",
       "      <td>0.1985</td>\n",
       "      <td>...</td>\n",
       "      <td>-60.27</td>\n",
       "      <td>0.0</td>\n",
       "      <td>0.0</td>\n",
       "      <td>0.0</td>\n",
       "      <td>0.0</td>\n",
       "      <td>1.0</td>\n",
       "      <td>0</td>\n",
       "      <td>0</td>\n",
       "      <td>0.0</td>\n",
       "      <td>20</td>\n",
       "    </tr>\n",
       "  </tbody>\n",
       "</table>\n",
       "<p>5 rows × 81 columns</p>\n",
       "</div>"
      ],
      "text/plain": [
       "                ListingKey  ListingNumber     ListingCreationDate CreditGrade  \\\n",
       "0  1021339766868145413AB3B         193129 2007-08-26 19:09:29.263           C   \n",
       "1  10273602499503308B223C1        1209647 2014-02-27 08:28:07.900         NaN   \n",
       "2  0EE9337825851032864889A          81716 2007-01-05 15:00:47.090          HR   \n",
       "3  0EF5356002482715299901A         658116 2012-10-22 11:02:35.010         NaN   \n",
       "4  0F023589499656230C5E3E2         909464 2013-09-14 18:38:39.097         NaN   \n",
       "\n",
       "   Term LoanStatus           ClosedDate  BorrowerAPR  BorrowerRate  \\\n",
       "0    36  Completed  2009-08-14 00:00:00      0.16516        0.1580   \n",
       "1    36    Current                  NaN      0.12016        0.0920   \n",
       "2    36  Completed  2009-12-17 00:00:00      0.28269        0.2750   \n",
       "3    36    Current                  NaN      0.12528        0.0974   \n",
       "4    36    Current                  NaN      0.24614        0.2085   \n",
       "\n",
       "   LenderYield  ...  LP_ServiceFees  LP_CollectionFees  LP_GrossPrincipalLoss  \\\n",
       "0       0.1380  ...         -133.18                0.0                    0.0   \n",
       "1       0.0820  ...            0.00                0.0                    0.0   \n",
       "2       0.2400  ...          -24.20                0.0                    0.0   \n",
       "3       0.0874  ...         -108.01                0.0                    0.0   \n",
       "4       0.1985  ...          -60.27                0.0                    0.0   \n",
       "\n",
       "   LP_NetPrincipalLoss LP_NonPrincipalRecoverypayments  PercentFunded  \\\n",
       "0                  0.0                             0.0            1.0   \n",
       "1                  0.0                             0.0            1.0   \n",
       "2                  0.0                             0.0            1.0   \n",
       "3                  0.0                             0.0            1.0   \n",
       "4                  0.0                             0.0            1.0   \n",
       "\n",
       "   Recommendations InvestmentFromFriendsCount InvestmentFromFriendsAmount  \\\n",
       "0                0                          0                         0.0   \n",
       "1                0                          0                         0.0   \n",
       "2                0                          0                         0.0   \n",
       "3                0                          0                         0.0   \n",
       "4                0                          0                         0.0   \n",
       "\n",
       "  Investors  \n",
       "0       258  \n",
       "1         1  \n",
       "2        41  \n",
       "3       158  \n",
       "4        20  \n",
       "\n",
       "[5 rows x 81 columns]"
      ]
     },
     "execution_count": 3,
     "metadata": {},
     "output_type": "execute_result"
    }
   ],
   "source": [
    "#Visual Check\n",
    "prosper.head()"
   ]
  },
  {
   "cell_type": "code",
   "execution_count": 4,
   "metadata": {},
   "outputs": [
    {
     "name": "stdout",
     "output_type": "stream",
     "text": [
      "<class 'pandas.core.frame.DataFrame'>\n",
      "RangeIndex: 113937 entries, 0 to 113936\n",
      "Data columns (total 81 columns):\n",
      " #   Column                               Non-Null Count   Dtype         \n",
      "---  ------                               --------------   -----         \n",
      " 0   ListingKey                           113937 non-null  object        \n",
      " 1   ListingNumber                        113937 non-null  int64         \n",
      " 2   ListingCreationDate                  113937 non-null  datetime64[ns]\n",
      " 3   CreditGrade                          28953 non-null   object        \n",
      " 4   Term                                 113937 non-null  int64         \n",
      " 5   LoanStatus                           113937 non-null  object        \n",
      " 6   ClosedDate                           55089 non-null   object        \n",
      " 7   BorrowerAPR                          113912 non-null  float64       \n",
      " 8   BorrowerRate                         113937 non-null  float64       \n",
      " 9   LenderYield                          113937 non-null  float64       \n",
      " 10  EstimatedEffectiveYield              84853 non-null   float64       \n",
      " 11  EstimatedLoss                        84853 non-null   float64       \n",
      " 12  EstimatedReturn                      84853 non-null   float64       \n",
      " 13  ProsperRating (numeric)              84853 non-null   float64       \n",
      " 14  ProsperRating (Alpha)                84853 non-null   object        \n",
      " 15  ProsperScore                         84853 non-null   float64       \n",
      " 16  ListingCategory (numeric)            113937 non-null  int64         \n",
      " 17  BorrowerState                        108422 non-null  object        \n",
      " 18  Occupation                           110349 non-null  object        \n",
      " 19  EmploymentStatus                     111682 non-null  object        \n",
      " 20  EmploymentStatusDuration             106312 non-null  float64       \n",
      " 21  IsBorrowerHomeowner                  113937 non-null  bool          \n",
      " 22  CurrentlyInGroup                     113937 non-null  bool          \n",
      " 23  GroupKey                             13341 non-null   object        \n",
      " 24  DateCreditPulled                     113937 non-null  object        \n",
      " 25  CreditScoreRangeLower                113346 non-null  float64       \n",
      " 26  CreditScoreRangeUpper                113346 non-null  float64       \n",
      " 27  FirstRecordedCreditLine              113240 non-null  object        \n",
      " 28  CurrentCreditLines                   106333 non-null  float64       \n",
      " 29  OpenCreditLines                      106333 non-null  float64       \n",
      " 30  TotalCreditLinespast7years           113240 non-null  float64       \n",
      " 31  OpenRevolvingAccounts                113937 non-null  int64         \n",
      " 32  OpenRevolvingMonthlyPayment          113937 non-null  float64       \n",
      " 33  InquiriesLast6Months                 113240 non-null  float64       \n",
      " 34  TotalInquiries                       112778 non-null  float64       \n",
      " 35  CurrentDelinquencies                 113240 non-null  float64       \n",
      " 36  AmountDelinquent                     106315 non-null  float64       \n",
      " 37  DelinquenciesLast7Years              112947 non-null  float64       \n",
      " 38  PublicRecordsLast10Years             113240 non-null  float64       \n",
      " 39  PublicRecordsLast12Months            106333 non-null  float64       \n",
      " 40  RevolvingCreditBalance               106333 non-null  float64       \n",
      " 41  BankcardUtilization                  106333 non-null  float64       \n",
      " 42  AvailableBankcardCredit              106393 non-null  float64       \n",
      " 43  TotalTrades                          106393 non-null  float64       \n",
      " 44  TradesNeverDelinquent (percentage)   106393 non-null  float64       \n",
      " 45  TradesOpenedLast6Months              106393 non-null  float64       \n",
      " 46  DebtToIncomeRatio                    105383 non-null  float64       \n",
      " 47  IncomeRange                          113937 non-null  object        \n",
      " 48  IncomeVerifiable                     113937 non-null  bool          \n",
      " 49  StatedMonthlyIncome                  113937 non-null  float64       \n",
      " 50  LoanKey                              113937 non-null  object        \n",
      " 51  TotalProsperLoans                    22085 non-null   float64       \n",
      " 52  TotalProsperPaymentsBilled           22085 non-null   float64       \n",
      " 53  OnTimeProsperPayments                22085 non-null   float64       \n",
      " 54  ProsperPaymentsLessThanOneMonthLate  22085 non-null   float64       \n",
      " 55  ProsperPaymentsOneMonthPlusLate      22085 non-null   float64       \n",
      " 56  ProsperPrincipalBorrowed             22085 non-null   float64       \n",
      " 57  ProsperPrincipalOutstanding          22085 non-null   float64       \n",
      " 58  ScorexChangeAtTimeOfListing          18928 non-null   float64       \n",
      " 59  LoanCurrentDaysDelinquent            113937 non-null  int64         \n",
      " 60  LoanFirstDefaultedCycleNumber        16952 non-null   float64       \n",
      " 61  LoanMonthsSinceOrigination           113937 non-null  int64         \n",
      " 62  LoanNumber                           113937 non-null  int64         \n",
      " 63  LoanOriginalAmount                   113937 non-null  int64         \n",
      " 64  LoanOriginationDate                  113937 non-null  object        \n",
      " 65  LoanOriginationQuarter               113937 non-null  object        \n",
      " 66  MemberKey                            113937 non-null  object        \n",
      " 67  MonthlyLoanPayment                   113937 non-null  float64       \n",
      " 68  LP_CustomerPayments                  113937 non-null  float64       \n",
      " 69  LP_CustomerPrincipalPayments         113937 non-null  float64       \n",
      " 70  LP_InterestandFees                   113937 non-null  float64       \n",
      " 71  LP_ServiceFees                       113937 non-null  float64       \n",
      " 72  LP_CollectionFees                    113937 non-null  float64       \n",
      " 73  LP_GrossPrincipalLoss                113937 non-null  float64       \n",
      " 74  LP_NetPrincipalLoss                  113937 non-null  float64       \n",
      " 75  LP_NonPrincipalRecoverypayments      113937 non-null  float64       \n",
      " 76  PercentFunded                        113937 non-null  float64       \n",
      " 77  Recommendations                      113937 non-null  int64         \n",
      " 78  InvestmentFromFriendsCount           113937 non-null  int64         \n",
      " 79  InvestmentFromFriendsAmount          113937 non-null  float64       \n",
      " 80  Investors                            113937 non-null  int64         \n",
      "dtypes: bool(3), datetime64[ns](1), float64(50), int64(11), object(16)\n",
      "memory usage: 68.1+ MB\n"
     ]
    }
   ],
   "source": [
    "prosper.info()"
   ]
  },
  {
   "cell_type": "code",
   "execution_count": 5,
   "metadata": {},
   "outputs": [
    {
     "data": {
      "text/html": [
       "<div>\n",
       "<style scoped>\n",
       "    .dataframe tbody tr th:only-of-type {\n",
       "        vertical-align: middle;\n",
       "    }\n",
       "\n",
       "    .dataframe tbody tr th {\n",
       "        vertical-align: top;\n",
       "    }\n",
       "\n",
       "    .dataframe thead th {\n",
       "        text-align: right;\n",
       "    }\n",
       "</style>\n",
       "<table border=\"1\" class=\"dataframe\">\n",
       "  <thead>\n",
       "    <tr style=\"text-align: right;\">\n",
       "      <th></th>\n",
       "      <th>ListingNumber</th>\n",
       "      <th>Term</th>\n",
       "      <th>BorrowerAPR</th>\n",
       "      <th>BorrowerRate</th>\n",
       "      <th>LenderYield</th>\n",
       "      <th>EstimatedEffectiveYield</th>\n",
       "      <th>EstimatedLoss</th>\n",
       "      <th>EstimatedReturn</th>\n",
       "      <th>ProsperRating (numeric)</th>\n",
       "      <th>ProsperScore</th>\n",
       "      <th>...</th>\n",
       "      <th>LP_ServiceFees</th>\n",
       "      <th>LP_CollectionFees</th>\n",
       "      <th>LP_GrossPrincipalLoss</th>\n",
       "      <th>LP_NetPrincipalLoss</th>\n",
       "      <th>LP_NonPrincipalRecoverypayments</th>\n",
       "      <th>PercentFunded</th>\n",
       "      <th>Recommendations</th>\n",
       "      <th>InvestmentFromFriendsCount</th>\n",
       "      <th>InvestmentFromFriendsAmount</th>\n",
       "      <th>Investors</th>\n",
       "    </tr>\n",
       "  </thead>\n",
       "  <tbody>\n",
       "    <tr>\n",
       "      <th>count</th>\n",
       "      <td>1.139370e+05</td>\n",
       "      <td>113937.000000</td>\n",
       "      <td>113912.000000</td>\n",
       "      <td>113937.000000</td>\n",
       "      <td>113937.000000</td>\n",
       "      <td>84853.000000</td>\n",
       "      <td>84853.000000</td>\n",
       "      <td>84853.000000</td>\n",
       "      <td>84853.000000</td>\n",
       "      <td>84853.000000</td>\n",
       "      <td>...</td>\n",
       "      <td>113937.000000</td>\n",
       "      <td>113937.000000</td>\n",
       "      <td>113937.000000</td>\n",
       "      <td>113937.000000</td>\n",
       "      <td>113937.000000</td>\n",
       "      <td>113937.000000</td>\n",
       "      <td>113937.000000</td>\n",
       "      <td>113937.000000</td>\n",
       "      <td>113937.000000</td>\n",
       "      <td>113937.000000</td>\n",
       "    </tr>\n",
       "    <tr>\n",
       "      <th>mean</th>\n",
       "      <td>6.278857e+05</td>\n",
       "      <td>40.830248</td>\n",
       "      <td>0.218828</td>\n",
       "      <td>0.192764</td>\n",
       "      <td>0.182701</td>\n",
       "      <td>0.168661</td>\n",
       "      <td>0.080306</td>\n",
       "      <td>0.096068</td>\n",
       "      <td>4.072243</td>\n",
       "      <td>5.950067</td>\n",
       "      <td>...</td>\n",
       "      <td>-54.725641</td>\n",
       "      <td>-14.242698</td>\n",
       "      <td>700.446342</td>\n",
       "      <td>681.420499</td>\n",
       "      <td>25.142686</td>\n",
       "      <td>0.998584</td>\n",
       "      <td>0.048027</td>\n",
       "      <td>0.023460</td>\n",
       "      <td>16.550751</td>\n",
       "      <td>80.475228</td>\n",
       "    </tr>\n",
       "    <tr>\n",
       "      <th>std</th>\n",
       "      <td>3.280762e+05</td>\n",
       "      <td>10.436212</td>\n",
       "      <td>0.080364</td>\n",
       "      <td>0.074818</td>\n",
       "      <td>0.074516</td>\n",
       "      <td>0.068467</td>\n",
       "      <td>0.046764</td>\n",
       "      <td>0.030403</td>\n",
       "      <td>1.673227</td>\n",
       "      <td>2.376501</td>\n",
       "      <td>...</td>\n",
       "      <td>60.675425</td>\n",
       "      <td>109.232758</td>\n",
       "      <td>2388.513831</td>\n",
       "      <td>2357.167068</td>\n",
       "      <td>275.657937</td>\n",
       "      <td>0.017919</td>\n",
       "      <td>0.332353</td>\n",
       "      <td>0.232412</td>\n",
       "      <td>294.545422</td>\n",
       "      <td>103.239020</td>\n",
       "    </tr>\n",
       "    <tr>\n",
       "      <th>min</th>\n",
       "      <td>4.000000e+00</td>\n",
       "      <td>12.000000</td>\n",
       "      <td>0.006530</td>\n",
       "      <td>0.000000</td>\n",
       "      <td>-0.010000</td>\n",
       "      <td>-0.182700</td>\n",
       "      <td>0.004900</td>\n",
       "      <td>-0.182700</td>\n",
       "      <td>1.000000</td>\n",
       "      <td>1.000000</td>\n",
       "      <td>...</td>\n",
       "      <td>-664.870000</td>\n",
       "      <td>-9274.750000</td>\n",
       "      <td>-94.200000</td>\n",
       "      <td>-954.550000</td>\n",
       "      <td>0.000000</td>\n",
       "      <td>0.700000</td>\n",
       "      <td>0.000000</td>\n",
       "      <td>0.000000</td>\n",
       "      <td>0.000000</td>\n",
       "      <td>1.000000</td>\n",
       "    </tr>\n",
       "    <tr>\n",
       "      <th>25%</th>\n",
       "      <td>4.009190e+05</td>\n",
       "      <td>36.000000</td>\n",
       "      <td>0.156290</td>\n",
       "      <td>0.134000</td>\n",
       "      <td>0.124200</td>\n",
       "      <td>0.115670</td>\n",
       "      <td>0.042400</td>\n",
       "      <td>0.074080</td>\n",
       "      <td>3.000000</td>\n",
       "      <td>4.000000</td>\n",
       "      <td>...</td>\n",
       "      <td>-73.180000</td>\n",
       "      <td>0.000000</td>\n",
       "      <td>0.000000</td>\n",
       "      <td>0.000000</td>\n",
       "      <td>0.000000</td>\n",
       "      <td>1.000000</td>\n",
       "      <td>0.000000</td>\n",
       "      <td>0.000000</td>\n",
       "      <td>0.000000</td>\n",
       "      <td>2.000000</td>\n",
       "    </tr>\n",
       "    <tr>\n",
       "      <th>50%</th>\n",
       "      <td>6.005540e+05</td>\n",
       "      <td>36.000000</td>\n",
       "      <td>0.209760</td>\n",
       "      <td>0.184000</td>\n",
       "      <td>0.173000</td>\n",
       "      <td>0.161500</td>\n",
       "      <td>0.072400</td>\n",
       "      <td>0.091700</td>\n",
       "      <td>4.000000</td>\n",
       "      <td>6.000000</td>\n",
       "      <td>...</td>\n",
       "      <td>-34.440000</td>\n",
       "      <td>0.000000</td>\n",
       "      <td>0.000000</td>\n",
       "      <td>0.000000</td>\n",
       "      <td>0.000000</td>\n",
       "      <td>1.000000</td>\n",
       "      <td>0.000000</td>\n",
       "      <td>0.000000</td>\n",
       "      <td>0.000000</td>\n",
       "      <td>44.000000</td>\n",
       "    </tr>\n",
       "    <tr>\n",
       "      <th>75%</th>\n",
       "      <td>8.926340e+05</td>\n",
       "      <td>36.000000</td>\n",
       "      <td>0.283810</td>\n",
       "      <td>0.250000</td>\n",
       "      <td>0.240000</td>\n",
       "      <td>0.224300</td>\n",
       "      <td>0.112000</td>\n",
       "      <td>0.116600</td>\n",
       "      <td>5.000000</td>\n",
       "      <td>8.000000</td>\n",
       "      <td>...</td>\n",
       "      <td>-13.920000</td>\n",
       "      <td>0.000000</td>\n",
       "      <td>0.000000</td>\n",
       "      <td>0.000000</td>\n",
       "      <td>0.000000</td>\n",
       "      <td>1.000000</td>\n",
       "      <td>0.000000</td>\n",
       "      <td>0.000000</td>\n",
       "      <td>0.000000</td>\n",
       "      <td>115.000000</td>\n",
       "    </tr>\n",
       "    <tr>\n",
       "      <th>max</th>\n",
       "      <td>1.255725e+06</td>\n",
       "      <td>60.000000</td>\n",
       "      <td>0.512290</td>\n",
       "      <td>0.497500</td>\n",
       "      <td>0.492500</td>\n",
       "      <td>0.319900</td>\n",
       "      <td>0.366000</td>\n",
       "      <td>0.283700</td>\n",
       "      <td>7.000000</td>\n",
       "      <td>11.000000</td>\n",
       "      <td>...</td>\n",
       "      <td>32.060000</td>\n",
       "      <td>0.000000</td>\n",
       "      <td>25000.000000</td>\n",
       "      <td>25000.000000</td>\n",
       "      <td>21117.900000</td>\n",
       "      <td>1.012500</td>\n",
       "      <td>39.000000</td>\n",
       "      <td>33.000000</td>\n",
       "      <td>25000.000000</td>\n",
       "      <td>1189.000000</td>\n",
       "    </tr>\n",
       "  </tbody>\n",
       "</table>\n",
       "<p>8 rows × 61 columns</p>\n",
       "</div>"
      ],
      "text/plain": [
       "       ListingNumber           Term    BorrowerAPR   BorrowerRate  \\\n",
       "count   1.139370e+05  113937.000000  113912.000000  113937.000000   \n",
       "mean    6.278857e+05      40.830248       0.218828       0.192764   \n",
       "std     3.280762e+05      10.436212       0.080364       0.074818   \n",
       "min     4.000000e+00      12.000000       0.006530       0.000000   \n",
       "25%     4.009190e+05      36.000000       0.156290       0.134000   \n",
       "50%     6.005540e+05      36.000000       0.209760       0.184000   \n",
       "75%     8.926340e+05      36.000000       0.283810       0.250000   \n",
       "max     1.255725e+06      60.000000       0.512290       0.497500   \n",
       "\n",
       "         LenderYield  EstimatedEffectiveYield  EstimatedLoss  EstimatedReturn  \\\n",
       "count  113937.000000             84853.000000   84853.000000     84853.000000   \n",
       "mean        0.182701                 0.168661       0.080306         0.096068   \n",
       "std         0.074516                 0.068467       0.046764         0.030403   \n",
       "min        -0.010000                -0.182700       0.004900        -0.182700   \n",
       "25%         0.124200                 0.115670       0.042400         0.074080   \n",
       "50%         0.173000                 0.161500       0.072400         0.091700   \n",
       "75%         0.240000                 0.224300       0.112000         0.116600   \n",
       "max         0.492500                 0.319900       0.366000         0.283700   \n",
       "\n",
       "       ProsperRating (numeric)  ProsperScore  ...  LP_ServiceFees  \\\n",
       "count             84853.000000  84853.000000  ...   113937.000000   \n",
       "mean                  4.072243      5.950067  ...      -54.725641   \n",
       "std                   1.673227      2.376501  ...       60.675425   \n",
       "min                   1.000000      1.000000  ...     -664.870000   \n",
       "25%                   3.000000      4.000000  ...      -73.180000   \n",
       "50%                   4.000000      6.000000  ...      -34.440000   \n",
       "75%                   5.000000      8.000000  ...      -13.920000   \n",
       "max                   7.000000     11.000000  ...       32.060000   \n",
       "\n",
       "       LP_CollectionFees  LP_GrossPrincipalLoss  LP_NetPrincipalLoss  \\\n",
       "count      113937.000000          113937.000000        113937.000000   \n",
       "mean          -14.242698             700.446342           681.420499   \n",
       "std           109.232758            2388.513831          2357.167068   \n",
       "min         -9274.750000             -94.200000          -954.550000   \n",
       "25%             0.000000               0.000000             0.000000   \n",
       "50%             0.000000               0.000000             0.000000   \n",
       "75%             0.000000               0.000000             0.000000   \n",
       "max             0.000000           25000.000000         25000.000000   \n",
       "\n",
       "       LP_NonPrincipalRecoverypayments  PercentFunded  Recommendations  \\\n",
       "count                    113937.000000  113937.000000    113937.000000   \n",
       "mean                         25.142686       0.998584         0.048027   \n",
       "std                         275.657937       0.017919         0.332353   \n",
       "min                           0.000000       0.700000         0.000000   \n",
       "25%                           0.000000       1.000000         0.000000   \n",
       "50%                           0.000000       1.000000         0.000000   \n",
       "75%                           0.000000       1.000000         0.000000   \n",
       "max                       21117.900000       1.012500        39.000000   \n",
       "\n",
       "       InvestmentFromFriendsCount  InvestmentFromFriendsAmount      Investors  \n",
       "count               113937.000000                113937.000000  113937.000000  \n",
       "mean                     0.023460                    16.550751      80.475228  \n",
       "std                      0.232412                   294.545422     103.239020  \n",
       "min                      0.000000                     0.000000       1.000000  \n",
       "25%                      0.000000                     0.000000       2.000000  \n",
       "50%                      0.000000                     0.000000      44.000000  \n",
       "75%                      0.000000                     0.000000     115.000000  \n",
       "max                     33.000000                 25000.000000    1189.000000  \n",
       "\n",
       "[8 rows x 61 columns]"
      ]
     },
     "execution_count": 5,
     "metadata": {},
     "output_type": "execute_result"
    }
   ],
   "source": [
    "prosper.describe()"
   ]
  },
  {
   "cell_type": "code",
   "execution_count": 6,
   "metadata": {},
   "outputs": [
    {
     "data": {
      "text/plain": [
       "ListingKey                         0\n",
       "ListingNumber                      0\n",
       "ListingCreationDate                0\n",
       "CreditGrade                    84984\n",
       "Term                               0\n",
       "                               ...  \n",
       "PercentFunded                      0\n",
       "Recommendations                    0\n",
       "InvestmentFromFriendsCount         0\n",
       "InvestmentFromFriendsAmount        0\n",
       "Investors                          0\n",
       "Length: 81, dtype: int64"
      ]
     },
     "execution_count": 6,
     "metadata": {},
     "output_type": "execute_result"
    }
   ],
   "source": [
    "prosper.isna().sum()"
   ]
  },
  {
   "cell_type": "markdown",
   "metadata": {},
   "source": [
    "### What is the structure of your dataset?\n",
    "\n",
    "> The dataset has a total of 81 features, with 113937 entries.\n",
    "\n",
    "### What is/are the main feature(s) of interest in your dataset?\n",
    "\n",
    "> There are many interesting features, but I am particularly interested if the ProsperScore (A custom risk score built using historical Prosper data) affects the number of investors, and whether a high ProsperScore yields higher or lower returns.\n",
    "\n",
    "### What features in the dataset do you think will help support your investigation into your feature(s) of interest?\n",
    "\n",
    "> ProsperScore, Investors, LenderYield."
   ]
  },
  {
   "cell_type": "markdown",
   "metadata": {},
   "source": [
    "## Univariate Exploration\n",
    "\n",
    "In this section I will explore variable individually."
   ]
  },
  {
   "cell_type": "markdown",
   "metadata": {},
   "source": [
    "### Variable Exploration 1: ProsperScore"
   ]
  },
  {
   "cell_type": "markdown",
   "metadata": {},
   "source": [
    "Per the Prosper Loan Data - Variable Definitions document, the ProsperScore is, \"A custom risk score built using historical Prosper data. The score ranges from 1-10, with 10 being the best, or lowest risk score.  Applicable for loans originated after July 2009.\""
   ]
  },
  {
   "cell_type": "code",
   "execution_count": 7,
   "metadata": {},
   "outputs": [
    {
     "data": {
      "text/plain": [
       "Text(0.5, 0, 'ProsperScore')"
      ]
     },
     "execution_count": 7,
     "metadata": {},
     "output_type": "execute_result"
    },
    {
     "data": {
      "image/png": "[encoded data removed]",
      "text/plain": [
       "<Figure size 432x288 with 1 Axes>"
      ]
     },
     "metadata": {
      "needs_background": "light"
     },
     "output_type": "display_data"
    }
   ],
   "source": [
    "#Plot Histogram\n",
    "prosper.hist(column='ProsperScore')\n",
    "plt.title('Histogram of ProsperScore', fontsize=16)\n",
    "plt.ylabel('Frequency', fontsize=16)\n",
    "plt.xlabel('ProsperScore', fontsize=16)"
   ]
  },
  {
   "cell_type": "code",
   "execution_count": 8,
   "metadata": {},
   "outputs": [
    {
     "data": {
      "text/plain": [
       "Text(0.5, 1.0, 'Boxplot of ProsperScore')"
      ]
     },
     "execution_count": 8,
     "metadata": {},
     "output_type": "execute_result"
    },
    {
     "data": {
      "image/png": "[encoded data removed]",
      "text/plain": [
       "<Figure size 432x288 with 1 Axes>"
      ]
     },
     "metadata": {},
     "output_type": "display_data"
    }
   ],
   "source": [
    "#Plot Boxplot\n",
    "sns.set_style('whitegrid')\n",
    "ax = sns.boxplot(data=[prosper['ProsperScore']])\n",
    "ax.set_title('Boxplot of ProsperScore')"
   ]
  },
  {
   "cell_type": "code",
   "execution_count": 9,
   "metadata": {},
   "outputs": [
    {
     "data": {
      "text/plain": [
       "5.950066585742402"
      ]
     },
     "execution_count": 9,
     "metadata": {},
     "output_type": "execute_result"
    }
   ],
   "source": [
    "#Calculate Mean\n",
    "prosper.ProsperScore.mean()"
   ]
  },
  {
   "cell_type": "markdown",
   "metadata": {},
   "source": [
    "> Although the date file states that the ProsperScore is between 1 - 10, there are values above 10 seen in the graphs above. I will investigate below."
   ]
  },
  {
   "cell_type": "code",
   "execution_count": 10,
   "metadata": {},
   "outputs": [
    {
     "data": {
      "text/plain": [
       "0         NaN\n",
       "1         7.0\n",
       "2         NaN\n",
       "3         9.0\n",
       "4         4.0\n",
       "         ... \n",
       "113932    5.0\n",
       "113933    8.0\n",
       "113934    3.0\n",
       "113935    5.0\n",
       "113936    7.0\n",
       "Name: ProsperScore, Length: 113937, dtype: float64"
      ]
     },
     "execution_count": 10,
     "metadata": {},
     "output_type": "execute_result"
    }
   ],
   "source": [
    "#Investigate Score\n",
    "prosper['ProsperScore']"
   ]
  },
  {
   "cell_type": "code",
   "execution_count": 11,
   "metadata": {},
   "outputs": [
    {
     "data": {
      "text/plain": [
       "29084"
      ]
     },
     "execution_count": 11,
     "metadata": {},
     "output_type": "execute_result"
    }
   ],
   "source": [
    "#Check for Null Values\n",
    "prosper['ProsperScore'].isna().sum()"
   ]
  },
  {
   "cell_type": "code",
   "execution_count": 12,
   "metadata": {},
   "outputs": [
    {
     "data": {
      "text/plain": [
       "False    112481\n",
       "True       1456\n",
       "Name: ProsperScore, dtype: int64"
      ]
     },
     "execution_count": 12,
     "metadata": {},
     "output_type": "execute_result"
    }
   ],
   "source": [
    "#Check for values above 10\n",
    "(prosper['ProsperScore'] > 10.0).value_counts()"
   ]
  },
  {
   "cell_type": "code",
   "execution_count": 13,
   "metadata": {},
   "outputs": [
    {
     "data": {
      "text/plain": [
       "False    113937\n",
       "Name: ProsperScore, dtype: int64"
      ]
     },
     "execution_count": 13,
     "metadata": {},
     "output_type": "execute_result"
    }
   ],
   "source": [
    "#Check for values below 1\n",
    "(prosper['ProsperScore'] < 1.0).value_counts()"
   ]
  },
  {
   "cell_type": "code",
   "execution_count": 14,
   "metadata": {},
   "outputs": [],
   "source": [
    "outliers_10 = prosper[prosper['ProsperScore'] > 10]"
   ]
  },
  {
   "cell_type": "code",
   "execution_count": 15,
   "metadata": {},
   "outputs": [
    {
     "data": {
      "text/plain": [
       "9         11.0\n",
       "69        11.0\n",
       "158       11.0\n",
       "224       11.0\n",
       "236       11.0\n",
       "          ... \n",
       "113762    11.0\n",
       "113784    11.0\n",
       "113855    11.0\n",
       "113881    11.0\n",
       "113912    11.0\n",
       "Name: ProsperScore, Length: 1456, dtype: float64"
      ]
     },
     "execution_count": 15,
     "metadata": {},
     "output_type": "execute_result"
    }
   ],
   "source": [
    "outliers_10['ProsperScore']"
   ]
  },
  {
   "cell_type": "markdown",
   "metadata": {},
   "source": [
    "### Findings:\n",
    "\n",
    "There are 1456 ProsperScores above 10, and 29084 null values. There are no Prosper Scores below 1.\n",
    "<br>\n",
    "<br>\n",
    "The mean ProsperScore is 5.95\n",
    "\n",
    "### Solution\n",
    " - I will drop all scores greater than 10.\n",
    "\n",
    " - I will drop all scores with null values\n",
    "\n",
    " - As the ProsperScore began in July 2009, I will filter out all columns before that date."
   ]
  },
  {
   "cell_type": "code",
   "execution_count": 16,
   "metadata": {},
   "outputs": [],
   "source": [
    "# Copy Data\n",
    "prosper_c = prosper.copy()"
   ]
  },
  {
   "cell_type": "code",
   "execution_count": 17,
   "metadata": {},
   "outputs": [],
   "source": [
    "#Drop rows with null ProsperScore values\n",
    "prosper_c.dropna(subset=['ProsperScore'], inplace=True)"
   ]
  },
  {
   "cell_type": "code",
   "execution_count": 18,
   "metadata": {},
   "outputs": [
    {
     "data": {
      "text/plain": [
       "0"
      ]
     },
     "execution_count": 18,
     "metadata": {},
     "output_type": "execute_result"
    }
   ],
   "source": [
    "#Check for Null Values\n",
    "prosper_c['ProsperScore'].isna().sum()"
   ]
  },
  {
   "cell_type": "code",
   "execution_count": 19,
   "metadata": {},
   "outputs": [],
   "source": [
    "#Drop scores over 10.0\n",
    "prosper_c.drop(prosper_c[prosper_c['ProsperScore'] > 10.0].index, inplace = True) "
   ]
  },
  {
   "cell_type": "code",
   "execution_count": 20,
   "metadata": {},
   "outputs": [
    {
     "data": {
      "text/plain": [
       "False    83397\n",
       "Name: ProsperScore, dtype: int64"
      ]
     },
     "execution_count": 20,
     "metadata": {},
     "output_type": "execute_result"
    }
   ],
   "source": [
    "#Check for values above 10\n",
    "(prosper_c['ProsperScore'] > 10.0).value_counts()"
   ]
  },
  {
   "cell_type": "code",
   "execution_count": 21,
   "metadata": {},
   "outputs": [],
   "source": [
    "#Filtering only dates beginning on July 1, 2009\n",
    "prosper_c = prosper_c[(prosper_c['ListingCreationDate'] >= '2009-07-01')]"
   ]
  },
  {
   "cell_type": "code",
   "execution_count": 22,
   "metadata": {},
   "outputs": [
    {
     "data": {
      "text/html": [
       "<div>\n",
       "<style scoped>\n",
       "    .dataframe tbody tr th:only-of-type {\n",
       "        vertical-align: middle;\n",
       "    }\n",
       "\n",
       "    .dataframe tbody tr th {\n",
       "        vertical-align: top;\n",
       "    }\n",
       "\n",
       "    .dataframe thead th {\n",
       "        text-align: right;\n",
       "    }\n",
       "</style>\n",
       "<table border=\"1\" class=\"dataframe\">\n",
       "  <thead>\n",
       "    <tr style=\"text-align: right;\">\n",
       "      <th></th>\n",
       "      <th>ListingKey</th>\n",
       "      <th>ListingNumber</th>\n",
       "      <th>ListingCreationDate</th>\n",
       "      <th>CreditGrade</th>\n",
       "      <th>Term</th>\n",
       "      <th>LoanStatus</th>\n",
       "      <th>ClosedDate</th>\n",
       "      <th>BorrowerAPR</th>\n",
       "      <th>BorrowerRate</th>\n",
       "      <th>LenderYield</th>\n",
       "      <th>...</th>\n",
       "      <th>LP_ServiceFees</th>\n",
       "      <th>LP_CollectionFees</th>\n",
       "      <th>LP_GrossPrincipalLoss</th>\n",
       "      <th>LP_NetPrincipalLoss</th>\n",
       "      <th>LP_NonPrincipalRecoverypayments</th>\n",
       "      <th>PercentFunded</th>\n",
       "      <th>Recommendations</th>\n",
       "      <th>InvestmentFromFriendsCount</th>\n",
       "      <th>InvestmentFromFriendsAmount</th>\n",
       "      <th>Investors</th>\n",
       "    </tr>\n",
       "  </thead>\n",
       "  <tbody>\n",
       "    <tr>\n",
       "      <th>39013</th>\n",
       "      <td>C1F93457067817167C1F85C</td>\n",
       "      <td>416275</td>\n",
       "      <td>2009-07-13 18:01:24.347</td>\n",
       "      <td>NaN</td>\n",
       "      <td>36</td>\n",
       "      <td>Completed</td>\n",
       "      <td>2009-10-26 00:00:00</td>\n",
       "      <td>0.09221</td>\n",
       "      <td>0.0715</td>\n",
       "      <td>0.0615</td>\n",
       "      <td>...</td>\n",
       "      <td>-8.84</td>\n",
       "      <td>0.0</td>\n",
       "      <td>0.00</td>\n",
       "      <td>0.00</td>\n",
       "      <td>0.0</td>\n",
       "      <td>1.0</td>\n",
       "      <td>0</td>\n",
       "      <td>0</td>\n",
       "      <td>0.0</td>\n",
       "      <td>184</td>\n",
       "    </tr>\n",
       "    <tr>\n",
       "      <th>18374</th>\n",
       "      <td>379D345841763444397B962</td>\n",
       "      <td>416283</td>\n",
       "      <td>2009-07-13 18:04:40.220</td>\n",
       "      <td>NaN</td>\n",
       "      <td>36</td>\n",
       "      <td>Completed</td>\n",
       "      <td>2010-07-22 00:00:00</td>\n",
       "      <td>0.18183</td>\n",
       "      <td>0.1600</td>\n",
       "      <td>0.1500</td>\n",
       "      <td>...</td>\n",
       "      <td>-30.63</td>\n",
       "      <td>0.0</td>\n",
       "      <td>0.00</td>\n",
       "      <td>0.00</td>\n",
       "      <td>0.0</td>\n",
       "      <td>1.0</td>\n",
       "      <td>0</td>\n",
       "      <td>0</td>\n",
       "      <td>0.0</td>\n",
       "      <td>97</td>\n",
       "    </tr>\n",
       "    <tr>\n",
       "      <th>48139</th>\n",
       "      <td>5622345861892608675B9E8</td>\n",
       "      <td>416290</td>\n",
       "      <td>2009-07-13 19:08:45.763</td>\n",
       "      <td>NaN</td>\n",
       "      <td>36</td>\n",
       "      <td>Defaulted</td>\n",
       "      <td>2010-08-06 00:00:00</td>\n",
       "      <td>0.26272</td>\n",
       "      <td>0.2398</td>\n",
       "      <td>0.2298</td>\n",
       "      <td>...</td>\n",
       "      <td>-24.64</td>\n",
       "      <td>0.0</td>\n",
       "      <td>4218.03</td>\n",
       "      <td>4218.02</td>\n",
       "      <td>0.0</td>\n",
       "      <td>1.0</td>\n",
       "      <td>0</td>\n",
       "      <td>0</td>\n",
       "      <td>0.0</td>\n",
       "      <td>187</td>\n",
       "    </tr>\n",
       "    <tr>\n",
       "      <th>47705</th>\n",
       "      <td>FC23345849511819320B882</td>\n",
       "      <td>416297</td>\n",
       "      <td>2009-07-13 19:09:37.827</td>\n",
       "      <td>NaN</td>\n",
       "      <td>36</td>\n",
       "      <td>Completed</td>\n",
       "      <td>2010-12-09 00:00:00</td>\n",
       "      <td>0.10234</td>\n",
       "      <td>0.0674</td>\n",
       "      <td>0.0574</td>\n",
       "      <td>...</td>\n",
       "      <td>-5.04</td>\n",
       "      <td>0.0</td>\n",
       "      <td>0.00</td>\n",
       "      <td>0.00</td>\n",
       "      <td>0.0</td>\n",
       "      <td>1.0</td>\n",
       "      <td>0</td>\n",
       "      <td>0</td>\n",
       "      <td>0.0</td>\n",
       "      <td>73</td>\n",
       "    </tr>\n",
       "    <tr>\n",
       "      <th>8072</th>\n",
       "      <td>598D34578806480944F5175</td>\n",
       "      <td>416293</td>\n",
       "      <td>2009-07-13 19:19:50.213</td>\n",
       "      <td>NaN</td>\n",
       "      <td>36</td>\n",
       "      <td>Completed</td>\n",
       "      <td>2011-01-21 00:00:00</td>\n",
       "      <td>0.05525</td>\n",
       "      <td>0.0519</td>\n",
       "      <td>0.0419</td>\n",
       "      <td>...</td>\n",
       "      <td>-0.91</td>\n",
       "      <td>0.0</td>\n",
       "      <td>0.00</td>\n",
       "      <td>0.00</td>\n",
       "      <td>0.0</td>\n",
       "      <td>1.0</td>\n",
       "      <td>0</td>\n",
       "      <td>0</td>\n",
       "      <td>0.0</td>\n",
       "      <td>97</td>\n",
       "    </tr>\n",
       "    <tr>\n",
       "      <th>...</th>\n",
       "      <td>...</td>\n",
       "      <td>...</td>\n",
       "      <td>...</td>\n",
       "      <td>...</td>\n",
       "      <td>...</td>\n",
       "      <td>...</td>\n",
       "      <td>...</td>\n",
       "      <td>...</td>\n",
       "      <td>...</td>\n",
       "      <td>...</td>\n",
       "      <td>...</td>\n",
       "      <td>...</td>\n",
       "      <td>...</td>\n",
       "      <td>...</td>\n",
       "      <td>...</td>\n",
       "      <td>...</td>\n",
       "      <td>...</td>\n",
       "      <td>...</td>\n",
       "      <td>...</td>\n",
       "      <td>...</td>\n",
       "      <td>...</td>\n",
       "    </tr>\n",
       "    <tr>\n",
       "      <th>64766</th>\n",
       "      <td>EE653603459506100437DE6</td>\n",
       "      <td>1252650</td>\n",
       "      <td>2014-03-10 06:26:33.343</td>\n",
       "      <td>NaN</td>\n",
       "      <td>60</td>\n",
       "      <td>Current</td>\n",
       "      <td>NaN</td>\n",
       "      <td>0.15817</td>\n",
       "      <td>0.1350</td>\n",
       "      <td>0.1250</td>\n",
       "      <td>...</td>\n",
       "      <td>0.00</td>\n",
       "      <td>0.0</td>\n",
       "      <td>0.00</td>\n",
       "      <td>0.00</td>\n",
       "      <td>0.0</td>\n",
       "      <td>1.0</td>\n",
       "      <td>0</td>\n",
       "      <td>0</td>\n",
       "      <td>0.0</td>\n",
       "      <td>1</td>\n",
       "    </tr>\n",
       "    <tr>\n",
       "      <th>73267</th>\n",
       "      <td>7FFD3604959259527B9EEA0</td>\n",
       "      <td>1253070</td>\n",
       "      <td>2014-03-10 07:33:30.033</td>\n",
       "      <td>NaN</td>\n",
       "      <td>36</td>\n",
       "      <td>Current</td>\n",
       "      <td>NaN</td>\n",
       "      <td>0.14039</td>\n",
       "      <td>0.1119</td>\n",
       "      <td>0.1019</td>\n",
       "      <td>...</td>\n",
       "      <td>0.00</td>\n",
       "      <td>0.0</td>\n",
       "      <td>0.00</td>\n",
       "      <td>0.00</td>\n",
       "      <td>0.0</td>\n",
       "      <td>1.0</td>\n",
       "      <td>0</td>\n",
       "      <td>0</td>\n",
       "      <td>0.0</td>\n",
       "      <td>1</td>\n",
       "    </tr>\n",
       "    <tr>\n",
       "      <th>67741</th>\n",
       "      <td>05ED3604548633419AB854D</td>\n",
       "      <td>1254540</td>\n",
       "      <td>2014-03-10 10:25:51.877</td>\n",
       "      <td>NaN</td>\n",
       "      <td>36</td>\n",
       "      <td>Current</td>\n",
       "      <td>NaN</td>\n",
       "      <td>0.25677</td>\n",
       "      <td>0.2185</td>\n",
       "      <td>0.2085</td>\n",
       "      <td>...</td>\n",
       "      <td>0.00</td>\n",
       "      <td>0.0</td>\n",
       "      <td>0.00</td>\n",
       "      <td>0.00</td>\n",
       "      <td>0.0</td>\n",
       "      <td>1.0</td>\n",
       "      <td>0</td>\n",
       "      <td>0</td>\n",
       "      <td>0.0</td>\n",
       "      <td>1</td>\n",
       "    </tr>\n",
       "    <tr>\n",
       "      <th>32376</th>\n",
       "      <td>C0CB36048657611344138C7</td>\n",
       "      <td>1255149</td>\n",
       "      <td>2014-03-10 11:28:06.920</td>\n",
       "      <td>NaN</td>\n",
       "      <td>60</td>\n",
       "      <td>Current</td>\n",
       "      <td>NaN</td>\n",
       "      <td>0.24369</td>\n",
       "      <td>0.2185</td>\n",
       "      <td>0.2085</td>\n",
       "      <td>...</td>\n",
       "      <td>0.00</td>\n",
       "      <td>0.0</td>\n",
       "      <td>0.00</td>\n",
       "      <td>0.00</td>\n",
       "      <td>0.0</td>\n",
       "      <td>1.0</td>\n",
       "      <td>0</td>\n",
       "      <td>0</td>\n",
       "      <td>0.0</td>\n",
       "      <td>1</td>\n",
       "    </tr>\n",
       "    <tr>\n",
       "      <th>14131</th>\n",
       "      <td>CB863604626731380F57A50</td>\n",
       "      <td>1255725</td>\n",
       "      <td>2014-03-10 12:20:53.760</td>\n",
       "      <td>NaN</td>\n",
       "      <td>36</td>\n",
       "      <td>Current</td>\n",
       "      <td>NaN</td>\n",
       "      <td>0.19386</td>\n",
       "      <td>0.1570</td>\n",
       "      <td>0.1470</td>\n",
       "      <td>...</td>\n",
       "      <td>0.00</td>\n",
       "      <td>0.0</td>\n",
       "      <td>0.00</td>\n",
       "      <td>0.00</td>\n",
       "      <td>0.0</td>\n",
       "      <td>1.0</td>\n",
       "      <td>0</td>\n",
       "      <td>0</td>\n",
       "      <td>0.0</td>\n",
       "      <td>1</td>\n",
       "    </tr>\n",
       "  </tbody>\n",
       "</table>\n",
       "<p>83397 rows × 81 columns</p>\n",
       "</div>"
      ],
      "text/plain": [
       "                    ListingKey  ListingNumber     ListingCreationDate  \\\n",
       "39013  C1F93457067817167C1F85C         416275 2009-07-13 18:01:24.347   \n",
       "18374  379D345841763444397B962         416283 2009-07-13 18:04:40.220   \n",
       "48139  5622345861892608675B9E8         416290 2009-07-13 19:08:45.763   \n",
       "47705  FC23345849511819320B882         416297 2009-07-13 19:09:37.827   \n",
       "8072   598D34578806480944F5175         416293 2009-07-13 19:19:50.213   \n",
       "...                        ...            ...                     ...   \n",
       "64766  EE653603459506100437DE6        1252650 2014-03-10 06:26:33.343   \n",
       "73267  7FFD3604959259527B9EEA0        1253070 2014-03-10 07:33:30.033   \n",
       "67741  05ED3604548633419AB854D        1254540 2014-03-10 10:25:51.877   \n",
       "32376  C0CB36048657611344138C7        1255149 2014-03-10 11:28:06.920   \n",
       "14131  CB863604626731380F57A50        1255725 2014-03-10 12:20:53.760   \n",
       "\n",
       "      CreditGrade  Term LoanStatus           ClosedDate  BorrowerAPR  \\\n",
       "39013         NaN    36  Completed  2009-10-26 00:00:00      0.09221   \n",
       "18374         NaN    36  Completed  2010-07-22 00:00:00      0.18183   \n",
       "48139         NaN    36  Defaulted  2010-08-06 00:00:00      0.26272   \n",
       "47705         NaN    36  Completed  2010-12-09 00:00:00      0.10234   \n",
       "8072          NaN    36  Completed  2011-01-21 00:00:00      0.05525   \n",
       "...           ...   ...        ...                  ...          ...   \n",
       "64766         NaN    60    Current                  NaN      0.15817   \n",
       "73267         NaN    36    Current                  NaN      0.14039   \n",
       "67741         NaN    36    Current                  NaN      0.25677   \n",
       "32376         NaN    60    Current                  NaN      0.24369   \n",
       "14131         NaN    36    Current                  NaN      0.19386   \n",
       "\n",
       "       BorrowerRate  LenderYield  ...  LP_ServiceFees  LP_CollectionFees  \\\n",
       "39013        0.0715       0.0615  ...           -8.84                0.0   \n",
       "18374        0.1600       0.1500  ...          -30.63                0.0   \n",
       "48139        0.2398       0.2298  ...          -24.64                0.0   \n",
       "47705        0.0674       0.0574  ...           -5.04                0.0   \n",
       "8072         0.0519       0.0419  ...           -0.91                0.0   \n",
       "...             ...          ...  ...             ...                ...   \n",
       "64766        0.1350       0.1250  ...            0.00                0.0   \n",
       "73267        0.1119       0.1019  ...            0.00                0.0   \n",
       "67741        0.2185       0.2085  ...            0.00                0.0   \n",
       "32376        0.2185       0.2085  ...            0.00                0.0   \n",
       "14131        0.1570       0.1470  ...            0.00                0.0   \n",
       "\n",
       "       LP_GrossPrincipalLoss  LP_NetPrincipalLoss  \\\n",
       "39013                   0.00                 0.00   \n",
       "18374                   0.00                 0.00   \n",
       "48139                4218.03              4218.02   \n",
       "47705                   0.00                 0.00   \n",
       "8072                    0.00                 0.00   \n",
       "...                      ...                  ...   \n",
       "64766                   0.00                 0.00   \n",
       "73267                   0.00                 0.00   \n",
       "67741                   0.00                 0.00   \n",
       "32376                   0.00                 0.00   \n",
       "14131                   0.00                 0.00   \n",
       "\n",
       "      LP_NonPrincipalRecoverypayments  PercentFunded  Recommendations  \\\n",
       "39013                             0.0            1.0                0   \n",
       "18374                             0.0            1.0                0   \n",
       "48139                             0.0            1.0                0   \n",
       "47705                             0.0            1.0                0   \n",
       "8072                              0.0            1.0                0   \n",
       "...                               ...            ...              ...   \n",
       "64766                             0.0            1.0                0   \n",
       "73267                             0.0            1.0                0   \n",
       "67741                             0.0            1.0                0   \n",
       "32376                             0.0            1.0                0   \n",
       "14131                             0.0            1.0                0   \n",
       "\n",
       "      InvestmentFromFriendsCount InvestmentFromFriendsAmount Investors  \n",
       "39013                          0                         0.0       184  \n",
       "18374                          0                         0.0        97  \n",
       "48139                          0                         0.0       187  \n",
       "47705                          0                         0.0        73  \n",
       "8072                           0                         0.0        97  \n",
       "...                          ...                         ...       ...  \n",
       "64766                          0                         0.0         1  \n",
       "73267                          0                         0.0         1  \n",
       "67741                          0                         0.0         1  \n",
       "32376                          0                         0.0         1  \n",
       "14131                          0                         0.0         1  \n",
       "\n",
       "[83397 rows x 81 columns]"
      ]
     },
     "execution_count": 22,
     "metadata": {},
     "output_type": "execute_result"
    }
   ],
   "source": [
    "#Sort by date, visual check\n",
    "prosper_c.sort_values(by='ListingCreationDate')"
   ]
  },
  {
   "cell_type": "code",
   "execution_count": 23,
   "metadata": {},
   "outputs": [
    {
     "data": {
      "text/plain": [
       "Text(0.5, 0, 'ProsperScore')"
      ]
     },
     "execution_count": 23,
     "metadata": {},
     "output_type": "execute_result"
    },
    {
     "data": {
      "image/png": "[encoded data removed]",
      "text/plain": [
       "<Figure size 432x288 with 1 Axes>"
      ]
     },
     "metadata": {},
     "output_type": "display_data"
    }
   ],
   "source": [
    "#Plot Histogram\n",
    "prosper_c.hist(column='ProsperScore')\n",
    "plt.title('Histogram of ProsperScore', fontsize=16)\n",
    "plt.ylabel('Frequency', fontsize=16)\n",
    "plt.xlabel('ProsperScore', fontsize=16)"
   ]
  },
  {
   "cell_type": "code",
   "execution_count": 24,
   "metadata": {
    "scrolled": true
   },
   "outputs": [
    {
     "data": {
      "text/plain": [
       "Text(0.5, 1.0, 'ProsperScore')"
      ]
     },
     "execution_count": 24,
     "metadata": {},
     "output_type": "execute_result"
    },
    {
     "data": {
      "image/png": "[encoded data removed]",
      "text/plain": [
       "<Figure size 432x288 with 1 Axes>"
      ]
     },
     "metadata": {},
     "output_type": "display_data"
    }
   ],
   "source": [
    "#Plot Boxplot\n",
    "sns.set_style('whitegrid')\n",
    "ax = sns.boxplot(data=[prosper_c['ProsperScore']])\n",
    "ax.set_title('ProsperScore')"
   ]
  },
  {
   "cell_type": "code",
   "execution_count": 25,
   "metadata": {},
   "outputs": [
    {
     "data": {
      "text/plain": [
       "5.861901507248462"
      ]
     },
     "execution_count": 25,
     "metadata": {},
     "output_type": "execute_result"
    }
   ],
   "source": [
    "#Calculate Mean\n",
    "prosper_c.ProsperScore.mean()"
   ]
  },
  {
   "cell_type": "markdown",
   "metadata": {},
   "source": [
    "> As anticipated, the maximum score is now 10. The mean has been adjusted slightly, from 5.95 to 5.86.\n",
    "\n",
    "Summary of Operations:\n",
    "- I copied the data to a new dataframe, prosper_c\n",
    "\n",
    "- I dropped all scores greater than 10.\n",
    "\n",
    "- I dropped all scores with null values\n",
    "\n",
    "- I dropped all dates before July 1, 2009, as the ProsperScore was not in use before this time."
   ]
  },
  {
   "cell_type": "markdown",
   "metadata": {},
   "source": [
    "### Variable Exploration 2: Investors"
   ]
  },
  {
   "cell_type": "markdown",
   "metadata": {},
   "source": [
    "Per the Prosper Loan Data - Variable Definitions document, the Investors variable is, \"The number of investors that funded the loan.\""
   ]
  },
  {
   "cell_type": "code",
   "execution_count": 26,
   "metadata": {},
   "outputs": [
    {
     "data": {
      "text/plain": [
       "Text(0.5, 0, 'Number of Investors')"
      ]
     },
     "execution_count": 26,
     "metadata": {},
     "output_type": "execute_result"
    },
    {
     "data": {
      "text/plain": [
       "<Figure size 2160x1440 with 0 Axes>"
      ]
     },
     "metadata": {},
     "output_type": "display_data"
    },
    {
     "data": {
      "image/png": "[encoded data removed]",
      "text/plain": [
       "<Figure size 432x288 with 1 Axes>"
      ]
     },
     "metadata": {},
     "output_type": "display_data"
    }
   ],
   "source": [
    "#Plot Histogram\n",
    "plt.figure(figsize=(30, 20))\n",
    "prosper_c.hist(column='Investors')\n",
    "plt.title('Histogram of Investors per Loan', fontsize=16)\n",
    "plt.ylabel('Frequency', fontsize=16)\n",
    "plt.xlabel('Number of Investors', fontsize=16)"
   ]
  },
  {
   "cell_type": "code",
   "execution_count": 27,
   "metadata": {},
   "outputs": [
    {
     "data": {
      "text/plain": [
       "Text(0.5, 1.0, 'Boxplot of Number of Investors Per Loan')"
      ]
     },
     "execution_count": 27,
     "metadata": {},
     "output_type": "execute_result"
    },
    {
     "data": {
      "image/png": "[encoded data removed]",
      "text/plain": [
       "<Figure size 432x288 with 1 Axes>"
      ]
     },
     "metadata": {},
     "output_type": "display_data"
    }
   ],
   "source": [
    "#Plot Boxplot\n",
    "sns.set_style('whitegrid')\n",
    "ax = sns.boxplot(data=[prosper_c['Investors']])\n",
    "ax.set_title('Boxplot of Number of Investors Per Loan')"
   ]
  },
  {
   "cell_type": "code",
   "execution_count": 28,
   "metadata": {},
   "outputs": [
    {
     "data": {
      "text/plain": [
       "0"
      ]
     },
     "execution_count": 28,
     "metadata": {},
     "output_type": "execute_result"
    }
   ],
   "source": [
    "#Check for Null Values\n",
    "prosper['Investors'].isna().sum()"
   ]
  },
  {
   "cell_type": "code",
   "execution_count": 29,
   "metadata": {},
   "outputs": [
    {
     "data": {
      "text/plain": [
       "80.4752275380254"
      ]
     },
     "execution_count": 29,
     "metadata": {},
     "output_type": "execute_result"
    }
   ],
   "source": [
    "prosper.Investors.mean()"
   ]
  },
  {
   "cell_type": "code",
   "execution_count": 30,
   "metadata": {},
   "outputs": [
    {
     "data": {
      "text/plain": [
       "103.23901985810599"
      ]
     },
     "execution_count": 30,
     "metadata": {},
     "output_type": "execute_result"
    }
   ],
   "source": [
    "prosper.Investors.std()"
   ]
  },
  {
   "cell_type": "code",
   "execution_count": 31,
   "metadata": {},
   "outputs": [
    {
     "data": {
      "text/plain": [
       "1"
      ]
     },
     "execution_count": 31,
     "metadata": {},
     "output_type": "execute_result"
    }
   ],
   "source": [
    "prosper.Investors.min()"
   ]
  },
  {
   "cell_type": "code",
   "execution_count": 32,
   "metadata": {},
   "outputs": [
    {
     "data": {
      "text/plain": [
       "1189"
      ]
     },
     "execution_count": 32,
     "metadata": {},
     "output_type": "execute_result"
    }
   ],
   "source": [
    "prosper.Investors.max()"
   ]
  },
  {
   "cell_type": "code",
   "execution_count": 33,
   "metadata": {},
   "outputs": [
    {
     "data": {
      "text/plain": [
       "0    1\n",
       "dtype: int64"
      ]
     },
     "execution_count": 33,
     "metadata": {},
     "output_type": "execute_result"
    }
   ],
   "source": [
    "prosper.Investors.mode()"
   ]
  },
  {
   "cell_type": "markdown",
   "metadata": {},
   "source": [
    "> The data indicates a wide range in the number of investors per loan. While the mean is 80, the standard deviation is 103, and there are outliers above 1100, with a maximum number of 1189. However, the most frequent number of investors is 1."
   ]
  },
  {
   "cell_type": "markdown",
   "metadata": {},
   "source": [
    "### Variable Exploration 1: LenderYield"
   ]
  },
  {
   "cell_type": "markdown",
   "metadata": {},
   "source": [
    "Per the Prosper Loan Data - Variable Definitions document, the Investors variable is, \"The Lender yield on the loan. Lender yield is equal to the interest rate on the loan less the servicing fee.\""
   ]
  },
  {
   "cell_type": "code",
   "execution_count": 34,
   "metadata": {},
   "outputs": [
    {
     "data": {
      "text/plain": [
       "Text(0.5, 0, 'Lender Yield')"
      ]
     },
     "execution_count": 34,
     "metadata": {},
     "output_type": "execute_result"
    },
    {
     "data": {
      "text/plain": [
       "<Figure size 2160x1440 with 0 Axes>"
      ]
     },
     "metadata": {},
     "output_type": "display_data"
    },
    {
     "data": {
      "image/png": "[encoded data removed]",
      "text/plain": [
       "<Figure size 432x288 with 1 Axes>"
      ]
     },
     "metadata": {},
     "output_type": "display_data"
    }
   ],
   "source": [
    "#Plot Histogram\n",
    "plt.figure(figsize=(30, 20))\n",
    "prosper_c.hist(column='LenderYield')\n",
    "plt.title('Histogram of Lender Yield per Loan', fontsize=16)\n",
    "plt.ylabel('Frequency', fontsize=16)\n",
    "plt.xlabel('Lender Yield', fontsize=16)"
   ]
  },
  {
   "cell_type": "code",
   "execution_count": 35,
   "metadata": {},
   "outputs": [
    {
     "data": {
      "text/plain": [
       "Text(0.5, 1.0, 'Boxplot of Lender Yield')"
      ]
     },
     "execution_count": 35,
     "metadata": {},
     "output_type": "execute_result"
    },
    {
     "data": {
      "image/png": "[encoded data removed]",
      "text/plain": [
       "<Figure size 432x288 with 1 Axes>"
      ]
     },
     "metadata": {},
     "output_type": "display_data"
    }
   ],
   "source": [
    "#Plot Boxplot\n",
    "sns.set_style('whitegrid')\n",
    "ax = sns.boxplot(data=[prosper_c['LenderYield']])\n",
    "ax.set_title('Boxplot of Lender Yield')"
   ]
  },
  {
   "cell_type": "code",
   "execution_count": 36,
   "metadata": {},
   "outputs": [
    {
     "data": {
      "text/plain": [
       "0"
      ]
     },
     "execution_count": 36,
     "metadata": {},
     "output_type": "execute_result"
    }
   ],
   "source": [
    "#Check for Null Values\n",
    "prosper_c['LenderYield'].isna().sum()"
   ]
  },
  {
   "cell_type": "code",
   "execution_count": 37,
   "metadata": {},
   "outputs": [
    {
     "data": {
      "text/plain": [
       "0.1878106694485252"
      ]
     },
     "execution_count": 37,
     "metadata": {},
     "output_type": "execute_result"
    }
   ],
   "source": [
    "prosper_c.LenderYield.mean()"
   ]
  },
  {
   "cell_type": "code",
   "execution_count": 38,
   "metadata": {},
   "outputs": [
    {
     "data": {
      "text/plain": [
       "0.34"
      ]
     },
     "execution_count": 38,
     "metadata": {},
     "output_type": "execute_result"
    }
   ],
   "source": [
    "prosper_c.LenderYield.max()"
   ]
  },
  {
   "cell_type": "code",
   "execution_count": 39,
   "metadata": {},
   "outputs": [
    {
     "data": {
      "text/plain": [
       "0.03"
      ]
     },
     "execution_count": 39,
     "metadata": {},
     "output_type": "execute_result"
    }
   ],
   "source": [
    "prosper_c.LenderYield.min()"
   ]
  },
  {
   "cell_type": "markdown",
   "metadata": {},
   "source": [
    "> Similar to the total investors, the data indicates a wide range in LenderYield. The mean is .19, with a maximum return of .34 and a minimum of 0.03."
   ]
  },
  {
   "cell_type": "markdown",
   "metadata": {},
   "source": [
    "### Discuss the distribution(s) of your variable(s) of interest. Were there any unusual points? Did you need to perform any transformations?\n",
    "\n",
    "1. ProsperScore: There were unusual points, as the ProsperScore included some outlier scores that were greater than 10, which were cleaned.\n",
    "<br>\n",
    "<br>\n",
    "2. Investors: The number of investors ranges from 1 to 1189, with a mean of 80.47. \n",
    "<br>\n",
    "<br>\n",
    "3. LenderYield: The mean is .19, with a maximum return of .34 and a minimum of 0.03.\n",
    "\n",
    "\n",
    "### Of the features you investigated, were there any unusual distributions? Did you perform any operations on the data to tidy, adjust, or change the form of the data? If so, why did you do this?\n",
    "\n",
    "1. ProsperScore: I tidied the data by dropping scores greater than 10, dropping null values, and dropping all dates before July 1, 2009.\n",
    "<br>\n",
    "<br>\n",
    "2. Investors: I decided to keep all of the data, as I'm curious to see how it correlates to the other variables. There were no null values in this column.\n",
    "<br>\n",
    "<br>\n",
    "3. LenderYield. I decided to keep all of the data, as I'm curious to see how it correlates to the other variables data. There were no null values in this column."
   ]
  },
  {
   "cell_type": "markdown",
   "metadata": {},
   "source": [
    "## Bivariate Exploration\n",
    "\n",
    "> In this section, investigate relationships between pairs of variables in your\n",
    "data. Make sure the variables that you cover here have been introduced in some\n",
    "fashion in the previous section (univariate exploration)."
   ]
  },
  {
   "cell_type": "markdown",
   "metadata": {},
   "source": [
    "### Bivariate Exploration 1: ProsperScore and Investors"
   ]
  },
  {
   "cell_type": "code",
   "execution_count": 40,
   "metadata": {},
   "outputs": [
    {
     "data": {
      "text/plain": [
       "Text(0.5, 0, 'ProsperScore')"
      ]
     },
     "execution_count": 40,
     "metadata": {},
     "output_type": "execute_result"
    },
    {
     "data": {
      "text/plain": [
       "<Figure size 1728x1728 with 0 Axes>"
      ]
     },
     "metadata": {},
     "output_type": "display_data"
    },
    {
     "data": {
      "image/png": "[encoded data removed]",
      "text/plain": [
       "<Figure size 432x288 with 1 Axes>"
      ]
     },
     "metadata": {},
     "output_type": "display_data"
    }
   ],
   "source": [
    "#Plot Scatterplot\n",
    "plt.figure(figsize=(24, 24))\n",
    "prosper_c.plot.scatter(x='ProsperScore', y='Investors')\n",
    "plt.title('Scatterplot of ProsperScore vs Number of Investors', fontsize=16)\n",
    "plt.ylabel('Investors', fontsize=16)\n",
    "plt.xlabel('ProsperScore', fontsize=16)"
   ]
  },
  {
   "cell_type": "markdown",
   "metadata": {},
   "source": [
    "> As show above, loan-seekers with ProsperScores of 4 and 6 appear most popular with investors."
   ]
  },
  {
   "cell_type": "code",
   "execution_count": 41,
   "metadata": {},
   "outputs": [
    {
     "data": {
      "text/plain": [
       "Text(0.5, 0, 'ProsperScore')"
      ]
     },
     "execution_count": 41,
     "metadata": {},
     "output_type": "execute_result"
    },
    {
     "data": {
      "image/png": "[encoded data removed]",
      "text/plain": [
       "<Figure size 1152x720 with 1 Axes>"
      ]
     },
     "metadata": {},
     "output_type": "display_data"
    }
   ],
   "source": [
    "plt.figure(figsize=(16, 10))\n",
    "\n",
    "sns.violinplot(data = prosper_c, x = 'ProsperScore', y = 'Investors', color = 'blue',\n",
    "              inner = None)\n",
    "plt.title('Violinplot of ProsperScore vs Number of Investors', fontsize=16)\n",
    "\n",
    "plt.ylabel('Investors', fontsize=16)\n",
    "plt.xlabel('ProsperScore', fontsize=16)"
   ]
  },
  {
   "cell_type": "markdown",
   "metadata": {},
   "source": [
    "This violinplot reveals more interesting data: for ProsperScores between 2 and 4, the median tends to be closer to 0, while 1.0 ProsperScore have a slightly higher median number of investors."
   ]
  },
  {
   "cell_type": "markdown",
   "metadata": {},
   "source": [
    "### Bivariate Exploration 2: ProsperScore and LenderYield"
   ]
  },
  {
   "cell_type": "code",
   "execution_count": 69,
   "metadata": {},
   "outputs": [
    {
     "name": "stderr",
     "output_type": "stream",
     "text": [
      "'c' argument looks like a single numeric RGB or RGBA sequence, which should be avoided as value-mapping will have precedence in case its length matches with 'x' & 'y'.  Please use a 2-D array with a single row if you really want to specify the same RGB or RGBA value for all points.\n"
     ]
    },
    {
     "data": {
      "text/plain": [
       "Text(0.5, 0, 'ProsperScore')"
      ]
     },
     "execution_count": 69,
     "metadata": {},
     "output_type": "execute_result"
    },
    {
     "data": {
      "text/plain": [
       "<Figure size 2160x2160 with 0 Axes>"
      ]
     },
     "metadata": {},
     "output_type": "display_data"
    },
    {
     "data": {
      "image/png": "[encoded data removed]",
      "text/plain": [
       "<Figure size 432x288 with 1 Axes>"
      ]
     },
     "metadata": {},
     "output_type": "display_data"
    }
   ],
   "source": [
    "#Plot Scatterplot\n",
    "plt.figure(figsize=(30, 30))\n",
    "prosper_c.plot.scatter(x='ProsperScore', y='LenderYield')\n",
    "plt.title('Scatterplot of ProsperScore vs Lender Yield', fontsize=16)\n",
    "plt.ylabel('Lender Yield', fontsize=16)\n",
    "plt.xlabel('ProsperScore', fontsize=16)"
   ]
  },
  {
   "cell_type": "code",
   "execution_count": 43,
   "metadata": {},
   "outputs": [
    {
     "data": {
      "text/plain": [
       "Text(0.5, 0, 'ProsperScore')"
      ]
     },
     "execution_count": 43,
     "metadata": {},
     "output_type": "execute_result"
    },
    {
     "data": {
      "image/png": "[encoded data removed]",
      "text/plain": [
       "<Figure size 1152x720 with 1 Axes>"
      ]
     },
     "metadata": {},
     "output_type": "display_data"
    }
   ],
   "source": [
    "#Plot Violinplot\n",
    "plt.figure(figsize=(16, 10))\n",
    "\n",
    "sns.violinplot(data = prosper_c, x = 'ProsperScore', y = 'LenderYield', color = 'blue',\n",
    "              inner = None)\n",
    "plt.title('Violinplot of ProsperScore vs Lender Yield', fontsize=16)\n",
    "\n",
    "plt.ylabel('Lender Yield', fontsize=16)\n",
    "plt.xlabel('ProsperScore', fontsize=16)"
   ]
  },
  {
   "cell_type": "markdown",
   "metadata": {},
   "source": [
    "This violinplot reveals that the lowest ranked borrowers, with a ProsperScore of 1.0, have a mean Lender Yield which is dramatically higher than the highest-ranked borrowers."
   ]
  },
  {
   "cell_type": "markdown",
   "metadata": {},
   "source": [
    "### Talk about some of the relationships you observed in this part of the investigation. How did the feature(s) of interest vary with other features in the dataset?\n",
    "\n",
    "> It is interesting to see that the median Lender Yield is much higher for a lower ProsperScore (roughly .30) than for the highest PropserScore (around 0.06).\n",
    "\n",
    "### Did you observe any interesting relationships between the other features (not the main feature(s) of interest)?\n",
    "\n",
    "> Both plots reveal that borrowers with higher ProsperScores are likely to produce lower Lender Yields."
   ]
  },
  {
   "cell_type": "markdown",
   "metadata": {},
   "source": [
    "## Multivariate Exploration\n",
    "\n",
    "> Create plots of three or more variables to investigate your data even\n",
    "further. Make sure that your investigations are justified, and follow from\n",
    "your work in the previous sections."
   ]
  },
  {
   "cell_type": "code",
   "execution_count": 54,
   "metadata": {},
   "outputs": [],
   "source": [
    "#Creating Data Subset of LenderYield, ProsperScore, and Investors\n",
    "prosper_s = prosper_c[['LenderYield', 'ProsperScore', 'Investors']]"
   ]
  },
  {
   "cell_type": "code",
   "execution_count": 61,
   "metadata": {},
   "outputs": [
    {
     "data": {
      "text/plain": [
       "<matplotlib.axes._subplots.AxesSubplot at 0x1a36af0c10>"
      ]
     },
     "execution_count": 61,
     "metadata": {},
     "output_type": "execute_result"
    },
    {
     "data": {
      "image/png": "[encoded data removed]",
      "text/plain": [
       "<Figure size 1152x720 with 2 Axes>"
      ]
     },
     "metadata": {},
     "output_type": "display_data"
    }
   ],
   "source": [
    "#Plotting Heatmap of LenderYield, ProsperScore, and Investors\n",
    "plt.figure(figsize=(16, 10))\n",
    "sns.set(font_scale=2)\n",
    "plt.title('Heatmap of LenderYield, ProsperScore, and Investors', fontsize=16)\n",
    "sns.heatmap(prosper_s.corr(), annot = True, fmt = '.2f', cmap = 'vlag_r', center = 0)"
   ]
  },
  {
   "cell_type": "markdown",
   "metadata": {},
   "source": [
    "> The heatmap shows the following:\n",
    "    - LenderYield and ProsperScore have a strong negative correlation (-0.64)\n",
    "    - LenderYield and the number of Investors have a negative correction (-0.24)\n",
    "    - The ProsperScore and the number of investors have a positive correlation (0.33)\n",
    "    \n",
    "This data reveals that on average, the higher the ProsperScore, the lower the return for investors. "
   ]
  },
  {
   "cell_type": "markdown",
   "metadata": {},
   "source": [
    "### Talk about some of the relationships you observed in this part of the investigation. Were there features that strengthened each other in terms of looking at your feature(s) of interest?\n",
    "\n",
    "> I discovered that while investors are more likely to invest in borrowers with a higher ProsperScore, in reality these higher ProsperScores lead to a lower Lender Yield,.\n",
    "\n",
    "### Were there any interesting or surprising interactions between features?\n",
    "\n",
    "> It is interesting to see that riskier investments (i.e. lower ProsperScores) lead to a higher return on average."
   ]
  }
 ],
 "metadata": {
  "kernelspec": {
   "display_name": "Python 3",
   "language": "python",
   "name": "python3"
  },
  "language_info": {
   "codemirror_mode": {
    "name": "ipython",
    "version": 3
   },
   "file_extension": ".py",
   "mimetype": "text/x-python",
   "name": "python",
   "nbconvert_exporter": "python",
   "pygments_lexer": "ipython3",
   "version": "3.7.6"
  }
 },
 "nbformat": 4,
 "nbformat_minor": 2
}
